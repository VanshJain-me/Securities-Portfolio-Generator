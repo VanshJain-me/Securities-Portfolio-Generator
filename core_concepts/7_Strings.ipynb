{
  "nbformat": 4,
  "nbformat_minor": 0,
  "metadata": {
    "colab": {
      "name": "7.Strings.ipynb",
      "provenance": [],
      "authorship_tag": "ABX9TyOXsA6DZ90QevTZbAjJGAfo",
      "include_colab_link": true
    },
    "kernelspec": {
      "name": "python3",
      "display_name": "Python 3"
    }
  },
  "cells": [
    {
      "cell_type": "markdown",
      "metadata": {
        "id": "view-in-github",
        "colab_type": "text"
      },
      "source": [
        "<a href=\"https://colab.research.google.com/github/VanshJain-me/Securities-Portfolio-Generator/blob/master/core_concepts/7_Strings.ipynb\" target=\"_parent\"><img src=\"https://colab.research.google.com/assets/colab-badge.svg\" alt=\"Open In Colab\"/></a>"
      ]
    },
    {
      "cell_type": "markdown",
      "metadata": {
        "id": "9yO06rTEjUsN"
      },
      "source": [
        "#Strings\r\n",
        "\r\n",
        "A string is a sequence of characters. They're contained within single or double quotes."
      ]
    },
    {
      "cell_type": "code",
      "metadata": {
        "colab": {
          "base_uri": "https://localhost:8080/"
        },
        "id": "5BukqD_4jMXY",
        "outputId": "d5e62f9b-bec7-49a9-d38e-e5fe342c77ea"
      },
      "source": [
        "'This is a string' #Valid string\r\n",
        "print(type('This is a string'))\r\n",
        "\r\n",
        "\"Your age is 100\" #Valid string\r\n",
        "print(type(\"Your age is 100\"))"
      ],
      "execution_count": 1,
      "outputs": [
        {
          "output_type": "stream",
          "text": [
            "<class 'str'>\n",
            "<class 'str'>\n"
          ],
          "name": "stdout"
        }
      ]
    },
    {
      "cell_type": "code",
      "metadata": {
        "colab": {
          "base_uri": "https://localhost:8080/"
        },
        "id": "bq1oavqlj3sM",
        "outputId": "9e4e30ba-b675-4d89-c921-926330c159f7"
      },
      "source": [
        "username = 'user'\r\n",
        "password = 'pass'\r\n",
        "\r\n",
        "print(username)\r\n",
        "print(password)\r\n",
        "\r\n",
        "print(type(username))\r\n",
        "print(type(password))"
      ],
      "execution_count": 2,
      "outputs": [
        {
          "output_type": "stream",
          "text": [
            "user\n",
            "pass\n",
            "<class 'str'>\n",
            "<class 'str'>\n"
          ],
          "name": "stdout"
        }
      ]
    },
    {
      "cell_type": "markdown",
      "metadata": {
        "id": "7gKYf9UikSbI"
      },
      "source": [
        "## Long Strings\r\n",
        "\r\n",
        "Long strings in python are strings that span accross multiple lines. They're contained between a set of three quotes '''."
      ]
    },
    {
      "cell_type": "code",
      "metadata": {
        "colab": {
          "base_uri": "https://localhost:8080/"
        },
        "id": "g9eVtHWKkQwr",
        "outputId": "57343675-ab6a-48ef-8483-ceaab0ffccac"
      },
      "source": [
        "long_string = '''\r\n",
        "WOW\r\n",
        "0 0\r\n",
        "---\r\n",
        "'''\r\n",
        "\r\n",
        "print(long_string)\r\n",
        "\r\n",
        "print(type(long_string))"
      ],
      "execution_count": 3,
      "outputs": [
        {
          "output_type": "stream",
          "text": [
            "\n",
            "WOW\n",
            "0 0\n",
            "---\n",
            "\n",
            "<class 'str'>\n"
          ],
          "name": "stdout"
        }
      ]
    },
    {
      "cell_type": "markdown",
      "metadata": {
        "id": "FIEATtCElJQ0"
      },
      "source": [
        "## String Concatenation\r\n",
        "\r\n",
        "String concatenation is adding two or more strings together to create one string. \r\n",
        "\r\n",
        "Note that you can only add strings to strings.\r\n",
        "\r\n",
        "It is done using a + sign."
      ]
    },
    {
      "cell_type": "code",
      "metadata": {
        "colab": {
          "base_uri": "https://localhost:8080/"
        },
        "id": "TkiBxQEsk4-E",
        "outputId": "c7409a24-468e-4d09-d9ac-eb9ef35fa017"
      },
      "source": [
        "first_name = 'John'\r\n",
        "last_name = 'Doe'\r\n",
        "\r\n",
        "full_name = first_name + ' ' + last_name\r\n",
        "\r\n",
        "print(full_name)\r\n",
        "print(type(full_name))"
      ],
      "execution_count": 4,
      "outputs": [
        {
          "output_type": "stream",
          "text": [
            "John Doe\n",
            "<class 'str'>\n"
          ],
          "name": "stdout"
        }
      ]
    }
  ]
}