{
  "nbformat": 4,
  "nbformat_minor": 0,
  "metadata": {
    "colab": {
      "name": "6.Variables.ipynb",
      "provenance": [],
      "authorship_tag": "ABX9TyOGWulDwUi0jnlpIbR7ioKE",
      "include_colab_link": true
    },
    "kernelspec": {
      "name": "python3",
      "display_name": "Python 3"
    }
  },
  "cells": [
    {
      "cell_type": "markdown",
      "metadata": {
        "id": "view-in-github",
        "colab_type": "text"
      },
      "source": [
        "<a href=\"https://colab.research.google.com/github/VanshJain-me/Securities-Portfolio-Generator/blob/master/Core%20Python%20Concepts/6_Variables.ipynb\" target=\"_parent\"><img src=\"https://colab.research.google.com/assets/colab-badge.svg\" alt=\"Open In Colab\"/></a>"
      ]
    },
    {
      "cell_type": "markdown",
      "metadata": {
        "id": "mOYHIroFnVwF"
      },
      "source": [
        "# Variables\r\n",
        "\r\n",
        "Variables store data that can be used by the program. Variables are also called names.\r\n",
        "\r\n",
        "## Assignment\r\n",
        "\r\n",
        "Assignment is the process of giving a variable data to store. The process is also called binding. It is done using the = operator. = is called the assignment operator.\r\n",
        "\r\n"
      ]
    },
    {
      "cell_type": "code",
      "metadata": {
        "colab": {
          "base_uri": "https://localhost:8080/"
        },
        "id": "KJmCOsy9nTS5",
        "outputId": "fb257a31-8261-4204-f757-f131904c3f4a"
      },
      "source": [
        "number = 10 #Here 'number' is the variable and 10 is the value assigned to it.\r\n",
        "print(number)"
      ],
      "execution_count": 1,
      "outputs": [
        {
          "output_type": "stream",
          "text": [
            "10\n"
          ],
          "name": "stdout"
        }
      ]
    },
    {
      "cell_type": "markdown",
      "metadata": {
        "id": "f1P7fxX1oTIR"
      },
      "source": [
        "# Best Practices around Variables\r\n",
        "\r\n",
        "1. The variable names are always snake_case. They only consist of lowercase letters, numbers and underscores only.\r\n",
        "2. The variable name should begin with a lowercase character or an underscore.\r\n",
        "3. Variable names are case sensitive. So number and Number are different variables.\r\n",
        "4. Variable names cannot be the same as python keywords.\r\n",
        "\r\n",
        "_ is used to represent a private variable.\r\n",
        "\r\n",
        "## Keywords\r\n",
        "\r\n",
        "Keywords in python are specific words that have a defined meaning within the language.\r\n",
        "\r\n",
        "## Naming variables.\r\n",
        "\r\n",
        "1. Make the name of the variable descriptive."
      ]
    },
    {
      "cell_type": "code",
      "metadata": {
        "colab": {
          "base_uri": "https://localhost:8080/"
        },
        "id": "g6RkJTcGpKBF",
        "outputId": "0526b38c-18d9-4c16-ba3b-1b35ce0ce2e5"
      },
      "source": [
        "user_name = 'John' #Good variable name, follows best practices.\r\n",
        "print(user_name)\r\n",
        "\r\n",
        "user_Name = 'John' #Bad variable name, does not follow best practices. Not the same as user_name.\r\n",
        "print(user_Name)\r\n",
        "\r\n",
        "_user_name = 'John' # _ represents private variables.\r\n",
        "print(_user_name)\r\n",
        "\r\n",
        "user0name = 'John' #Valid variable name\r\n",
        "print(user0name)\r\n",
        "\r\n",
        "input = 'John' #Invalid variable name, input is a keyword"
      ],
      "execution_count": 2,
      "outputs": [
        {
          "output_type": "stream",
          "text": [
            "John\n",
            "John\n",
            "John\n",
            "John\n"
          ],
          "name": "stdout"
        }
      ]
    },
    {
      "cell_type": "markdown",
      "metadata": {
        "id": "z2EKsqKfsqrU"
      },
      "source": [
        "# Variable Re-Assignment\r\n",
        "\r\n",
        "Variables can take new values by replacing the old value. This is variable re-assignment.\r\n",
        "\r\n",
        "Variable re-assignment is done using the assignment operator."
      ]
    },
    {
      "cell_type": "code",
      "metadata": {
        "colab": {
          "base_uri": "https://localhost:8080/"
        },
        "id": "VWvjlG9vsoMn",
        "outputId": "4fa5f22d-5c4d-4325-e8f8-e358aba8e759"
      },
      "source": [
        "name = user_name\r\n",
        "print(name)"
      ],
      "execution_count": 3,
      "outputs": [
        {
          "output_type": "stream",
          "text": [
            "John\n"
          ],
          "name": "stdout"
        }
      ]
    },
    {
      "cell_type": "markdown",
      "metadata": {
        "id": "vqrdJSvztvro"
      },
      "source": [
        "Variables can undergo standard operations and can be used by various functions."
      ]
    },
    {
      "cell_type": "code",
      "metadata": {
        "colab": {
          "base_uri": "https://localhost:8080/"
        },
        "id": "JStrRWPCtgP5",
        "outputId": "776f99db-1db6-4f26-ccbe-32b9f83e2031"
      },
      "source": [
        "amount = 100\r\n",
        "print(amount)\r\n",
        "\r\n",
        "payment = amount * 0.9\r\n",
        "print(payment)"
      ],
      "execution_count": 4,
      "outputs": [
        {
          "output_type": "stream",
          "text": [
            "100\n",
            "90.0\n"
          ],
          "name": "stdout"
        }
      ]
    },
    {
      "cell_type": "markdown",
      "metadata": {
        "id": "sZrh4gCyuG5y"
      },
      "source": [
        "# Constants\r\n",
        "\r\n",
        "Constants are values that do not change. This is only a convention.\r\n",
        "\r\n",
        "Variables names that store constants use Uppercase letters, underscores and numbers."
      ]
    },
    {
      "cell_type": "code",
      "metadata": {
        "colab": {
          "base_uri": "https://localhost:8080/"
        },
        "id": "rvyiAgS7uli6",
        "outputId": "08ada96e-f1b2-4040-9dba-511685d58bac"
      },
      "source": [
        "PI = 3.141\r\n",
        "print(PI)"
      ],
      "execution_count": 5,
      "outputs": [
        {
          "output_type": "stream",
          "text": [
            "3.141\n"
          ],
          "name": "stdout"
        }
      ]
    },
    {
      "cell_type": "markdown",
      "metadata": {
        "id": "f0rgc7tEupcY"
      },
      "source": [
        "Constants naming is only a good practice to be followed. The variable storing a constant can be re-assigned another value."
      ]
    },
    {
      "cell_type": "code",
      "metadata": {
        "colab": {
          "base_uri": "https://localhost:8080/"
        },
        "id": "uG2IeeCuu1WB",
        "outputId": "50652285-f353-4b62-afe1-e5659846b136"
      },
      "source": [
        "PI = 3\r\n",
        "print(PI)"
      ],
      "execution_count": 6,
      "outputs": [
        {
          "output_type": "stream",
          "text": [
            "3\n"
          ],
          "name": "stdout"
        }
      ]
    },
    {
      "cell_type": "markdown",
      "metadata": {
        "id": "f2ggHXKfu6wx"
      },
      "source": [
        "## Multiple Assignment\r\n",
        "\r\n",
        "One assignment operator can assign more than one variable. This is called multiple assignment. The assignments are done in order."
      ]
    },
    {
      "cell_type": "code",
      "metadata": {
        "colab": {
          "base_uri": "https://localhost:8080/"
        },
        "id": "laglA4K0vKfJ",
        "outputId": "83509ed2-29ff-419a-eb9b-ef45ed70eea5"
      },
      "source": [
        "num1, num2, num3 = 10,20,30\r\n",
        "\r\n",
        "print(num1)\r\n",
        "print(num2)\r\n",
        "print(num3)"
      ],
      "execution_count": 7,
      "outputs": [
        {
          "output_type": "stream",
          "text": [
            "10\n",
            "20\n",
            "30\n"
          ],
          "name": "stdout"
        }
      ]
    },
    {
      "cell_type": "markdown",
      "metadata": {
        "id": "D4Coo9q7vXSb"
      },
      "source": [
        "# Expressions and Statements\r\n",
        "\r\n",
        "An expression is a piece of code that generates a value.\r\n",
        "\r\n",
        "A statement is an entire line of code that performes an action."
      ]
    },
    {
      "cell_type": "code",
      "metadata": {
        "colab": {
          "base_uri": "https://localhost:8080/"
        },
        "id": "dk7KRZUHvVX5",
        "outputId": "da43ad8c-bf46-42f5-d13b-0b46a9c84c2c"
      },
      "source": [
        "amount = 100  #This is a statement. Here the action is the value 100 is assigned to the variable 'amount'\r\n",
        "print(amount)\r\n",
        "\r\n",
        "amount * 0.9  #This is an expression. Here only a value is generated, but no action is performed.\r\n",
        "\r\n",
        "payment = amount * 0.9 # This is a statement\r\n",
        "print(payment)"
      ],
      "execution_count": 8,
      "outputs": [
        {
          "output_type": "stream",
          "text": [
            "100\n",
            "90.0\n"
          ],
          "name": "stdout"
        }
      ]
    }
  ]
}